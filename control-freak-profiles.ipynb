{
 "cells": [
  {
   "cell_type": "code",
   "execution_count": 1,
   "metadata": {},
   "outputs": [],
   "source": [
    "import enum\n",
    "import itertools\n",
    "import struct\n",
    "import typing"
   ]
  },
  {
   "cell_type": "code",
   "execution_count": 2,
   "metadata": {},
   "outputs": [],
   "source": [
    "# because running the notebook in VSCode makes the working dir the notebook root,\n",
    "# not where the notebook's located...\n",
    "import os\n",
    "import pathlib\n",
    "os.chdir(pathlib.Path(\"~/Code/control-freak\").expanduser())"
   ]
  },
  {
   "cell_type": "code",
   "execution_count": 3,
   "metadata": {},
   "outputs": [
    {
     "output_type": "execute_result",
     "data": {
      "text/plain": [
       "8192"
      ]
     },
     "metadata": {},
     "execution_count": 3
    }
   ],
   "source": [
    "with open(\"dumps/CMC850.FA1.4\", mode=\"rb\") as f:\n",
    "    data = f.read()\n",
    "    \n",
    "len(data)"
   ]
  },
  {
   "cell_type": "code",
   "execution_count": 4,
   "metadata": {},
   "outputs": [
    {
     "output_type": "execute_result",
     "data": {
      "text/plain": [
       "23"
      ]
     },
     "metadata": {},
     "execution_count": 4
    }
   ],
   "source": [
    "RECIPE_SIZE = 36  # inferred from looking at data\n",
    "SUBGROUP_SIZE = 256\n",
    "RECIPES_PER_SUBGROUP = int(SUBGROUP_SIZE / RECIPE_SIZE)\n",
    "\n",
    "def chunks(iterable, size):\n",
    "    it = iter(iterable)\n",
    "    item = list(itertools.islice(it, size))\n",
    "    while item:\n",
    "        yield item\n",
    "        item = list(itertools.islice(it, size))\n",
    "\n",
    "def extract_entries(data):\n",
    "    for subgroup in chunks(data, SUBGROUP_SIZE):\n",
    "        entries = chunks(subgroup, RECIPE_SIZE)\n",
    "        for entry in itertools.islice(entries, RECIPES_PER_SUBGROUP):\n",
    "            entry = bytes(entry)\n",
    "            if entry.startswith(b\"\\xFF\"):\n",
    "                return\n",
    "            yield entry\n",
    "\n",
    "entries = list(extract_entries(data))\n",
    "len(entries)"
   ]
  },
  {
   "cell_type": "markdown",
   "metadata": {},
   "source": [
    "# Entries\n",
    "\n",
    "36 bytes, repeating.\n",
    "\n",
    "* Bytes 0-x: `char[]`, name. ASCII name at start, max varies, around 19-20 chars? (`0123456789abcdefghi` and `Llllllllllllllllllll` capped it, char width max on display?)\n",
    "* Byte 30 (1E): LSByte of temperature in °F? Device can set temp from 77°F to 482°F (406 set points).\n",
    "\n",
    "```\n",
    "       b30  b31[7]\n",
    " 77 ->  77   0\n",
    "155 -> 155   0\n",
    "156 -> 156   0\n",
    "254 -> 254   0\n",
    "255 -> 255   0\n",
    "256 ->   1   1\n",
    "257 ->   2   1\n",
    "258 ->   3   1\n",
    "482 -> 227   1\n",
    "```\n",
    "* Byte 31 (1F): \n",
    "    * bit 7: +255 to temp?\n",
    "    * bits 6-5: action at timer end\n",
    "        * `00`: Continue\n",
    "        * `01`: Stop\n",
    "        * `10`: Keep Warm 140°F/60°C\n",
    "        * `11`: Repeat (NEED TO CONFIRM)\n",
    "    * bit 4: ???\n",
    "    * bits 3-2: intensity/speed\n",
    "        * `00`: Slow\n",
    "        * `01`: Medium\n",
    "        * `10`: Fast\n",
    "        * `11`: unknown/undefined?\n",
    "    * bits 1-0: timer start condition\n",
    "        * `00`: At Beginning\n",
    "        * `01`: At Temp\n",
    "        * `10`: At Prompt\n",
    "        * `11`: unknown/undefined?\n",
    "* Byte 32 (20): `int8`, hours. Device caps out at 72 hours.\n",
    "* Byte 33 (21): `int8`, minutes.\n",
    "* Byte 34 (22): `int8`, seconds. Device only allows selecting multiples of 5.\n",
    "* Byte 35 (23): `char`, Checksum, 8-bit sum of previous 35 bytes"
   ]
  },
  {
   "cell_type": "code",
   "execution_count": 5,
   "metadata": {},
   "outputs": [],
   "source": [
    "class TimerStart(enum.Enum):\n",
    "    BEGINNING = \"beginning\"\n",
    "    AT_TEMP = \"at_temp\"\n",
    "    PROMPT = \"prompt\"\n",
    "\n",
    "class TimerEnd(enum.Enum):\n",
    "    STOP = \"Stop Cooking\"\n",
    "    CONTINUE = \"Continue\"\n",
    "    KEEP_WARM = \"Keep Warm\"\n",
    "    REPEAT = \"Repeat\"\n",
    "    \n",
    "class Speed(enum.Enum):\n",
    "    FAST = \"Fast\"\n",
    "    MEDIUM = \"Medium\"\n",
    "    SLOW = \"Slow\"\n",
    "\n",
    "class Entry(typing.NamedTuple):\n",
    "    name: str\n",
    "    hours: int\n",
    "    minutes: int\n",
    "    seconds: int\n",
    "    temp_f: int\n",
    "    speed: Speed\n",
    "    timer_start: TimerStart\n",
    "    timer_end: TimerEnd\n",
    "    checksum: bool\n",
    "#     raw: bytes"
   ]
  },
  {
   "cell_type": "code",
   "execution_count": 6,
   "metadata": {},
   "outputs": [],
   "source": [
    "def parse_name(entry):\n",
    "    return entry[:20].split(b\"\\x00\", 1)[0].decode(\"ascii\")\n",
    "    \n",
    "def parse_temp(entry):\n",
    "    t_lsb = entry[0x1E]\n",
    "    t_extra = entry[0x1F] & 0b1000_0000\n",
    "    if t_extra:\n",
    "        return t_lsb + 255\n",
    "    return t_lsb\n",
    "\n",
    "def parse_timer_start(entry):\n",
    "    b = entry[0x1F]\n",
    "    timer_bits = (b & 0b0000_0011) >> 0\n",
    "    return {\n",
    "        0b00: TimerStart.BEGINNING,\n",
    "        0b01: TimerStart.AT_TEMP,\n",
    "        0b10: TimerStart.PROMPT,\n",
    "    }[timer_bits]\n",
    "\n",
    "def parse_timer_end(entry):\n",
    "    b = entry[0x1F]\n",
    "    timer_bits = (b & 0b0110_0000) >> 5\n",
    "#     return timer_bits\n",
    "    return {\n",
    "        0b00: TimerEnd.CONTINUE,\n",
    "        0b01: TimerEnd.STOP,\n",
    "        0b10: TimerEnd.KEEP_WARM,\n",
    "        0b11: TimerEnd.REPEAT,  # UNCONFIRMED\n",
    "    }[timer_bits]\n",
    "\n",
    "def parse_speed(entry):\n",
    "    b = entry[0x1F]\n",
    "    temp_bits = (b & 0b0000_1100) >> 2\n",
    "    return {\n",
    "        0b00: Speed.SLOW,\n",
    "        0b01: Speed.MEDIUM,\n",
    "        0b10: Speed.FAST,\n",
    "    }[temp_bits]\n",
    "\n",
    "def parse_checksum(entry):\n",
    "    computed = sum(entry[0:35]) % 256\n",
    "    return computed == entry[35]\n",
    "\n",
    "def parse_entry(b: bytes):\n",
    "    assert len(b) == RECIPE_SIZE\n",
    "    \n",
    "    return Entry(\n",
    "#         raw=b,\n",
    "        name=parse_name(b),\n",
    "        hours=b[32],\n",
    "        minutes=b[33],\n",
    "        seconds=b[34],\n",
    "        temp_f=parse_temp(b),\n",
    "        timer_start=parse_timer_start(b),\n",
    "        timer_end=parse_timer_end(b),\n",
    "        speed=parse_speed(b),\n",
    "        checksum=parse_checksum(b),\n",
    "    )"
   ]
  },
  {
   "cell_type": "code",
   "execution_count": 7,
   "metadata": {},
   "outputs": [],
   "source": [
    "def viz_entry(e: Entry):\n",
    "    print(e.name)\n",
    "    print(f\" - {e.temp_f}\\N{DEGREE SIGN}F\")\n",
    "    print(\" -\", e.speed.value.capitalize())\n",
    "    if e.hours:\n",
    "        print(f\" - {e.hours}:{e.minutes:02d}HRS\")\n",
    "    else:\n",
    "        print(f\" - {e.minutes}:{e.seconds:02d}MIN\")\n",
    "#     print(\" -\", e.timer_end.value)\n",
    "    print(\" -\", e.timer_end)"
   ]
  },
  {
   "cell_type": "code",
   "execution_count": 8,
   "metadata": {},
   "outputs": [
    {
     "output_type": "stream",
     "name": "stdout",
     "text": [
      "Llllllllllllllllllll\n - 482°F\n - Slow\n - 72:00HRS\n - TimerEnd.KEEP_WARM\n"
     ]
    }
   ],
   "source": [
    "viz_entry(parse_entry(b\"Llllllllllllllllllll\\x00\\x00\\x00\\x00\\x00\\x00\\x00\\x00\\x00\\x00\\xe3\\xc0H\\x00\\x00;\"))\n",
    "# keep warm"
   ]
  },
  {
   "cell_type": "code",
   "execution_count": 9,
   "metadata": {},
   "outputs": [
    {
     "output_type": "stream",
     "name": "stdout",
     "text": [
      "Poaching\n - 155°F\n - Medium\n - 45:00MIN\n - TimerEnd.STOP\n"
     ]
    }
   ],
   "source": [
    "viz_entry(parse_entry(b\"Poaching\\x00\\x00\\x00\\x00\\x00\\x00\\x00\\x00\\x00\\x00\\x00\\x00\\x00\\x00\\x00\\x00\\x00\\x00\\x00\\x00\\x00\\x00\\x9b%\\x00-\\x00\\x16\"))\n",
    "# stop"
   ]
  },
  {
   "cell_type": "code",
   "execution_count": 10,
   "metadata": {},
   "outputs": [
    {
     "output_type": "stream",
     "name": "stdout",
     "text": [
      "77pfc\n - 77°F\n - Fast\n - 0:05MIN\n - TimerEnd.CONTINUE\n"
     ]
    }
   ],
   "source": [
    "viz_entry(parse_entry(b\"77pfc\\x001\\x00\\x00\\x00\\x00\\x00\\x00\\x00\\x00\\x00\\x00\\x00\\x00\\x00\\x00\\x00\\x00\\x00\\x00\\x00\\x00\\x00\\x00\\x00M\\n\\x00\\x00\\x054\"))\n",
    "# continue"
   ]
  },
  {
   "cell_type": "code",
   "execution_count": 11,
   "metadata": {
    "scrolled": false
   },
   "outputs": [
    {
     "output_type": "stream",
     "name": "stdout",
     "text": [
      "Temp 01\n - 250°F\n - Fast\n - 0:00MIN\n - TimerEnd.CONTINUE\n0                  0\n - 260°F\n - Fast\n - 0:05MIN\n - TimerEnd.REPEAT\n0123456789abcdefghi\n - 257°F\n - Fast\n - 1:00MIN\n - TimerEnd.REPEAT\n1\n - 251°F\n - Fast\n - 1:00MIN\n - TimerEnd.REPEAT\n2\n - 252°F\n - Fast\n - 0:05MIN\n - TimerEnd.REPEAT\n255sfc\n - 255°F\n - Fast\n - 0:05MIN\n - TimerEnd.CONTINUE\n256sfc\n - 256°F\n - Fast\n - 0:05MIN\n - TimerEnd.CONTINUE\n333\n - 253°F\n - Fast\n - 0:05MIN\n - TimerEnd.CONTINUE\n4444\n - 254°F\n - Fast\n - 0:05MIN\n - TimerEnd.CONTINUE\n55555\n - 255°F\n - Fast\n - 0:05MIN\n - TimerEnd.CONTINUE\n666666\n - 256°F\n - Fast\n - 0:05MIN\n - TimerEnd.CONTINUE\n7777777\n - 257°F\n - Fast\n - 0:05MIN\n - TimerEnd.CONTINUE\n77pfc\n - 77°F\n - Fast\n - 0:05MIN\n - TimerEnd.CONTINUE\n77pfs\n - 77°F\n - Fast\n - 0:05MIN\n - TimerEnd.STOP\n77sfc\n - 77°F\n - Fast\n - 0:05MIN\n - TimerEnd.CONTINUE\n77smc\n - 77°F\n - Medium\n - 0:05MIN\n - TimerEnd.CONTINUE\n77ssc\n - 77°F\n - Slow\n - 0:05MIN\n - TimerEnd.CONTINUE\n77tfc\n - 77°F\n - Fast\n - 0:05MIN\n - TimerEnd.CONTINUE\n88888888\n - 258°F\n - Fast\n - 0:05MIN\n - TimerEnd.CONTINUE\n9999 9999\n - 259°F\n - Fast\n - 0:05MIN\n - TimerEnd.CONTINUE\nLlllllllllllllllllll\n - 482°F\n - Slow\n - 72:00HRS\n - TimerEnd.KEEP_WARM\nPoaching\n - 155°F\n - Medium\n - 45:00MIN\n - TimerEnd.STOP\nPoooooooooooooooach\n - 156°F\n - Medium\n - 45:05MIN\n - TimerEnd.STOP\n"
     ]
    }
   ],
   "source": [
    "for e in entries:\n",
    "    viz_entry(parse_entry(e))"
   ]
  },
  {
   "cell_type": "code",
   "execution_count": 12,
   "metadata": {},
   "outputs": [
    {
     "output_type": "execute_result",
     "data": {
      "text/plain": [
       "'1'"
      ]
     },
     "metadata": {},
     "execution_count": 12
    }
   ],
   "source": [
    "e3 = parse_entry(entries[3])\n",
    "e3.name #, e3.raw[0x1F]"
   ]
  },
  {
   "cell_type": "code",
   "execution_count": 13,
   "metadata": {},
   "outputs": [
    {
     "output_type": "execute_result",
     "data": {
      "text/plain": [
       "Entry(name='Temp 01', hours=0, minutes=0, seconds=0, temp_f=250, speed=<Speed.FAST: 'Fast'>, timer_start=<TimerStart.BEGINNING: 'beginning'>, timer_end=<TimerEnd.CONTINUE: 'Continue'>, checksum=True)"
      ]
     },
     "metadata": {},
     "execution_count": 13
    }
   ],
   "source": [
    "parse_entry(entries[0])"
   ]
  },
  {
   "cell_type": "code",
   "execution_count": 14,
   "metadata": {},
   "outputs": [
    {
     "output_type": "execute_result",
     "data": {
      "text/plain": [
       "Entry(name='0                  0', hours=0, minutes=0, seconds=5, temp_f=260, speed=<Speed.FAST: 'Fast'>, timer_start=<TimerStart.PROMPT: 'prompt'>, timer_end=<TimerEnd.REPEAT: 'Repeat'>, checksum=True)"
      ]
     },
     "metadata": {},
     "execution_count": 14
    }
   ],
   "source": [
    "parse_entry(entries[1])"
   ]
  },
  {
   "cell_type": "code",
   "execution_count": 15,
   "metadata": {},
   "outputs": [
    {
     "output_type": "execute_result",
     "data": {
      "text/plain": [
       "Entry(name='0123456789abcdefghi', hours=0, minutes=1, seconds=0, temp_f=257, speed=<Speed.FAST: 'Fast'>, timer_start=<TimerStart.BEGINNING: 'beginning'>, timer_end=<TimerEnd.REPEAT: 'Repeat'>, checksum=True)"
      ]
     },
     "metadata": {},
     "execution_count": 15
    }
   ],
   "source": [
    "parse_entry(entries[2])"
   ]
  },
  {
   "cell_type": "code",
   "execution_count": 16,
   "metadata": {},
   "outputs": [
    {
     "output_type": "execute_result",
     "data": {
      "text/plain": [
       "Entry(name='2', hours=0, minutes=0, seconds=5, temp_f=252, speed=<Speed.FAST: 'Fast'>, timer_start=<TimerStart.BEGINNING: 'beginning'>, timer_end=<TimerEnd.REPEAT: 'Repeat'>, checksum=True)"
      ]
     },
     "metadata": {},
     "execution_count": 16
    }
   ],
   "source": [
    "parse_entry(entries[4])"
   ]
  },
  {
   "cell_type": "code",
   "execution_count": 17,
   "metadata": {},
   "outputs": [
    {
     "output_type": "execute_result",
     "data": {
      "text/plain": [
       "Entry(name='256sfc', hours=0, minutes=0, seconds=5, temp_f=256, speed=<Speed.FAST: 'Fast'>, timer_start=<TimerStart.BEGINNING: 'beginning'>, timer_end=<TimerEnd.CONTINUE: 'Continue'>, checksum=True)"
      ]
     },
     "metadata": {},
     "execution_count": 17
    }
   ],
   "source": [
    "parse_entry(entries[6])"
   ]
  },
  {
   "cell_type": "code",
   "execution_count": null,
   "metadata": {},
   "outputs": [],
   "source": []
  }
 ],
 "metadata": {
  "kernelspec": {
   "display_name": "Global 3.8",
   "language": "python",
   "name": "global3"
  },
  "language_info": {
   "codemirror_mode": {
    "name": "ipython",
    "version": 3
   },
   "file_extension": ".py",
   "mimetype": "text/x-python",
   "name": "python",
   "nbconvert_exporter": "python",
   "pygments_lexer": "ipython3",
   "version": "3.8.2-final"
  }
 },
 "nbformat": 4,
 "nbformat_minor": 4
}